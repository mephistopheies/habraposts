{
 "cells": [
  {
   "cell_type": "code",
   "execution_count": 36,
   "metadata": {
    "collapsed": true
   },
   "outputs": [],
   "source": [
    "%matplotlib inline\n",
    "import matplotlib\n",
    "import numpy as np\n",
    "import matplotlib.pyplot as plt\n",
    "import pandas as pd\n",
    "pd.set_option('display.max_columns', 500)\n",
    "import seaborn as sns\n",
    "sns.set_style(\"dark\")\n",
    "plt.rcParams['figure.figsize'] = 8, 6\n",
    "from tqdm import tqdm, tqdm_notebook\n",
    "from scipy import stats"
   ]
  },
  {
   "cell_type": "code",
   "execution_count": null,
   "metadata": {
    "collapsed": true
   },
   "outputs": [],
   "source": []
  },
  {
   "cell_type": "markdown",
   "metadata": {},
   "source": [
    "Standard error:\n",
    "\n",
    "$$\\text{SE}_{\\overline{x}} = \\frac{s}{\\sqrt{n}}$$\n",
    "\n",
    "where $s$ - standard deviation\n",
    "\n",
    "if $x \\sim \\text{Bernoilli}\\left(\\theta\\right)$:\n",
    "\n",
    "$$\\text{SE}_{\\overline{x}} = \\sqrt{\\frac{\\theta\\left(1 - \\theta\\right)}{n}}$$\n",
    "\n",
    "we can think that $\\text{SE} \\sim \\mathcal{N}\\left(0, 1\\right)$\n",
    "\n",
    "\n",
    "For mean difference with equal or unequal sample size and unequal variances:\n",
    "\n",
    "$$t = \\frac{\\overline{x}_1 - \\overline{x}_2}{\\sqrt{\\frac{s_1^2}{n_1} + \\frac{s_2^2}{n_2}}}$$\n",
    "\n",
    "then $t \\sim \\text{Student}\\left(\\ldots\\right)$\n",
    "\n",
    "$$d = \\frac{\\left(\\frac{s_1^2}{n_1} + \\frac{s_2^2}{n_2}\\right)^2}{\\left(\\frac{s_1^2}{n_1}\\right)^2 \\frac{1}{n_1 - 1} + \\left(\\frac{s_2^2}{n_2}\\right)^2 \\frac{1}{n_2 - 1}}$$"
   ]
  },
  {
   "cell_type": "code",
   "execution_count": null,
   "metadata": {
    "collapsed": true
   },
   "outputs": [],
   "source": []
  },
  {
   "cell_type": "code",
   "execution_count": 35,
   "metadata": {
    "collapsed": false
   },
   "outputs": [
    {
     "name": "stdout",
     "output_type": "stream",
     "text": [
      "0.975 1.95996398454\n"
     ]
    }
   ],
   "source": [
    "level = 0.975\n",
    "z = stats.norm.ppf(level)\n",
    "print level, z"
   ]
  },
  {
   "cell_type": "code",
   "execution_count": 42,
   "metadata": {
    "collapsed": false
   },
   "outputs": [
    {
     "name": "stdout",
     "output_type": "stream",
     "text": [
      "0.0011 3496.08098062\n",
      "0.001 3845.30412482\n"
     ]
    }
   ],
   "source": [
    "p = 0.0011\n",
    "\n",
    "n = z*z/(p*(1 - p))\n",
    "print p, n\n",
    "\n",
    "p = 0.001\n",
    "\n",
    "n = z*z/(p*(1 - p))\n",
    "print p, n"
   ]
  },
  {
   "cell_type": "code",
   "execution_count": null,
   "metadata": {
    "collapsed": false
   },
   "outputs": [],
   "source": [
    "stats.t.ppf(0.975, df=20000)"
   ]
  },
  {
   "cell_type": "code",
   "execution_count": 136,
   "metadata": {
    "collapsed": false
   },
   "outputs": [
    {
     "name": "stdout",
     "output_type": "stream",
     "text": [
      "0.0011\n",
      "805899.645993\n"
     ]
    }
   ],
   "source": [
    "level = 0.975\n",
    "p_c = 0.001\n",
    "q = 0.1\n",
    "z = stats.norm.ppf(level)\n",
    "print (1 + q)*p_c\n",
    "\n",
    "n = z*z*(2 + q)*(p_c - p_c*p_c)/(q*q*p_c*p_c)\n",
    "print n"
   ]
  },
  {
   "cell_type": "code",
   "execution_count": null,
   "metadata": {
    "collapsed": false
   },
   "outputs": [],
   "source": []
  },
  {
   "cell_type": "code",
   "execution_count": null,
   "metadata": {
    "collapsed": true
   },
   "outputs": [],
   "source": []
  },
  {
   "cell_type": "code",
   "execution_count": 91,
   "metadata": {
    "collapsed": false
   },
   "outputs": [
    {
     "name": "stdout",
     "output_type": "stream",
     "text": [
      "0.975\n",
      "1.95996398454\n",
      "805857.389946\n"
     ]
    }
   ],
   "source": [
    "p = 0.001\n",
    "q = 0.0011\n",
    "\n",
    "level = 0.975\n",
    "z = stats.norm.ppf(level)\n",
    "# z = stats.t.ppf(level, df=2)\n",
    "print level\n",
    "print z\n",
    "\n",
    "n = ((z/(p - q))**2)*(p*(1 - p) + q*(1 - q))\n",
    "\n",
    "print n"
   ]
  },
  {
   "cell_type": "code",
   "execution_count": null,
   "metadata": {
    "collapsed": true
   },
   "outputs": [],
   "source": []
  },
  {
   "cell_type": "code",
   "execution_count": null,
   "metadata": {
    "collapsed": true
   },
   "outputs": [],
   "source": []
  },
  {
   "cell_type": "code",
   "execution_count": 135,
   "metadata": {
    "collapsed": false
   },
   "outputs": [
    {
     "name": "stdout",
     "output_type": "stream",
     "text": [
      "0.01 2.32634787404\n",
      "0.01 -2.32634787404\n",
      "2269318.38438\n",
      "0.00104881009877\n"
     ]
    }
   ],
   "source": [
    "p = 0.001\n",
    "q = 0.0011\n",
    "# p = 0.5\n",
    "# q = 0.55\n",
    "\n",
    "a = 0.01\n",
    "b = 0.01\n",
    "ta = stats.norm.ppf(1 - a)\n",
    "tb = stats.norm.ppf(b)\n",
    "print a, ta\n",
    "print b, tb\n",
    "\n",
    "n = (tb*np.sqrt(q*(1 - q)) - ta*np.sqrt(p*(1 - p)))/(q - p)\n",
    "n = n*n\n",
    "print n\n",
    "\n",
    "c = p + ta*np.sqrt(p*(1 - p)/n)\n",
    "print c"
   ]
  },
  {
   "cell_type": "markdown",
   "metadata": {},
   "source": [
    "So, in summary, if the pollster collects data on n = 1001 voters, and rejects his null hypothesis H0: p = 0.50 if the proportion of sampled voters who favor the political candidate is greater than 0.5367, he will have a 1% chance of committing a Type I error and a 20% chance of committing a Type II error if the population proportion p were actually 0.55.\n",
    "\n",
    "- The desired α level, that is, your willingness to commit a Type I error.\n",
    "- The desired power or, equivalently, the desired β level, that is, your willingness to commit a Type II error.\n",
    "- A meaningful difference from the value of the parameter that is specified in the null hypothesis.\n",
    "- The standard deviation of the sample statistic or, at least, an estimate of the standard deviation (the \"standard error\") of the sample statistic.\n",
    "\n",
    "$$\\begin{array}{rcl}\n",
    "c &=& p + t_\\alpha \\sqrt{\\frac{p(1 - p)}{n}} \\\\\n",
    "c &=& q + t_\\beta \\sqrt{\\frac{q(1 - q)}{n}} \\\\\n",
    "n &=& \\left(\\frac{t_\\beta \\sqrt{q(1 - q)} - t_\\alpha \\sqrt{p(1 - p)}}{p - q}\\right)^2\n",
    "\\end{array}$$\n",
    "- $p$ is for control\n",
    "- $q$ is for treatment"
   ]
  },
  {
   "cell_type": "code",
   "execution_count": null,
   "metadata": {
    "collapsed": true
   },
   "outputs": [],
   "source": []
  },
  {
   "cell_type": "code",
   "execution_count": null,
   "metadata": {
    "collapsed": true
   },
   "outputs": [],
   "source": []
  },
  {
   "cell_type": "code",
   "execution_count": null,
   "metadata": {
    "collapsed": true
   },
   "outputs": [],
   "source": []
  },
  {
   "cell_type": "code",
   "execution_count": null,
   "metadata": {
    "collapsed": true
   },
   "outputs": [],
   "source": []
  },
  {
   "cell_type": "code",
   "execution_count": null,
   "metadata": {
    "collapsed": true
   },
   "outputs": [],
   "source": []
  },
  {
   "cell_type": "code",
   "execution_count": null,
   "metadata": {
    "collapsed": true
   },
   "outputs": [],
   "source": []
  }
 ],
 "metadata": {
  "kernelspec": {
   "display_name": "Python 2",
   "language": "python",
   "name": "python2"
  },
  "language_info": {
   "codemirror_mode": {
    "name": "ipython",
    "version": 2
   },
   "file_extension": ".py",
   "mimetype": "text/x-python",
   "name": "python",
   "nbconvert_exporter": "python",
   "pygments_lexer": "ipython2",
   "version": "2.7.12"
  }
 },
 "nbformat": 4,
 "nbformat_minor": 1
}
